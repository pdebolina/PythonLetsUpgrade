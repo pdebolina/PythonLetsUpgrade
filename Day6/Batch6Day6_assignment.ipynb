{
  "nbformat": 4,
  "nbformat_minor": 0,
  "metadata": {
    "colab": {
      "name": "Batch6Day6_assignment.ipynb",
      "provenance": []
    },
    "kernelspec": {
      "name": "python3",
      "display_name": "Python 3"
    }
  },
  "cells": [
    {
      "cell_type": "code",
      "metadata": {
        "id": "xwzFn_oy2V2g",
        "colab_type": "code",
        "colab": {
          "base_uri": "https://localhost:8080/",
          "height": 170
        },
        "outputId": "4cb1b187-872a-4f49-e101-8324237a650d"
      },
      "source": [
        "#Assignment1\n",
        "class my_dictionary(dict): \n",
        "  \n",
        "    # __init__ function \n",
        "    def __init__(self): \n",
        "        self = dict() \n",
        "          \n",
        "    # Function to add key:value \n",
        "    def add(self, key, value): \n",
        "        self[key] = value \n",
        "port1={21:\"FTP\",22:\"SSH\",23:\"telnet\",80:\"http\"}\n",
        "new_dir=my_dictionary()\n",
        "for key in port1.keys():\n",
        "  print(key)\n",
        "  print(port1[key])\n",
        "  new_dir.add(port1[key],key)\n",
        "\n",
        "print(new_dir)"
      ],
      "execution_count": 17,
      "outputs": [
        {
          "output_type": "stream",
          "text": [
            "21\n",
            "FTP\n",
            "22\n",
            "SSH\n",
            "23\n",
            "telnet\n",
            "80\n",
            "http\n",
            "{'FTP': 21, 'SSH': 22, 'telnet': 23, 'http': 80}\n"
          ],
          "name": "stdout"
        }
      ]
    },
    {
      "cell_type": "code",
      "metadata": {
        "id": "psYajAOH8aj5",
        "colab_type": "code",
        "colab": {
          "base_uri": "https://localhost:8080/",
          "height": 34
        },
        "outputId": "4a802003-a130-436f-8455-3cd785314877"
      },
      "source": [
        "#Assignment2:\n",
        "tuplelist=((1,2),(3,4),(5,6),(7,8))\n",
        "add=0\n",
        "add_list=[]\n",
        "for i in tuplelist:\n",
        "  add_i=0\n",
        "  for ele in i:\n",
        "    add_i+=ele\n",
        "  add_list.append(add_i)\n",
        "\n",
        "print(add_list)"
      ],
      "execution_count": 18,
      "outputs": [
        {
          "output_type": "stream",
          "text": [
            "[3, 7, 11, 15]\n"
          ],
          "name": "stdout"
        }
      ]
    }
  ]
}